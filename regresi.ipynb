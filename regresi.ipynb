{
 "cells": [
  {
   "cell_type": "code",
   "execution_count": null,
   "metadata": {},
   "outputs": [],
   "source": [
    "import numpy as np\n",
    "import pandas as pd\n",
    "import matplotlib.pyplot as plt\n",
    "import seaborn as sns\n",
    "import re"
   ]
  },
  {
   "cell_type": "code",
   "execution_count": null,
   "metadata": {},
   "outputs": [],
   "source": [
    "df=pd.read_csv(\"mobile_prices_2023.csv\")\n",
    "df"
   ]
  },
  {
   "cell_type": "code",
   "execution_count": null,
   "metadata": {},
   "outputs": [],
   "source": [
    "df.shape"
   ]
  },
  {
   "cell_type": "code",
   "execution_count": null,
   "metadata": {},
   "outputs": [],
   "source": [
    "df.info()\n",
    "df.columns"
   ]
  },
  {
   "cell_type": "markdown",
   "metadata": {},
   "source": [
    "# Data Cleaning\n"
   ]
  },
  {
   "cell_type": "code",
   "execution_count": null,
   "metadata": {},
   "outputs": [],
   "source": [
    "df.duplicated().sum()"
   ]
  },
  {
   "cell_type": "code",
   "execution_count": null,
   "metadata": {},
   "outputs": [],
   "source": [
    "df = df.drop_duplicates()\n",
    "df.duplicated().sum()\n",
    "df.shape"
   ]
  },
  {
   "cell_type": "code",
   "execution_count": null,
   "metadata": {},
   "outputs": [],
   "source": [
    "df.isnull().sum()"
   ]
  },
  {
   "cell_type": "code",
   "execution_count": null,
   "metadata": {},
   "outputs": [],
   "source": [
    "df = df.dropna()\n",
    "df.isnull().sum()"
   ]
  },
  {
   "cell_type": "code",
   "execution_count": null,
   "metadata": {},
   "outputs": [],
   "source": [
    "\n",
    "df.rename(columns={'Phone Name': 'Nama HP','Rating ?/5':'Rating','Number of Ratings':'Banyak Rating' ,'ROM/Storage': 'ROM', 'Back/Rare Camera': 'Back Camera'}, inplace=True)\n",
    "df.info()\n",
    "\n"
   ]
  },
  {
   "cell_type": "markdown",
   "metadata": {},
   "source": [
    "# EDA / Pre-processing"
   ]
  },
  {
   "cell_type": "code",
   "execution_count": null,
   "metadata": {},
   "outputs": [],
   "source": [
    "drop_date = ['Date of Scraping']\n",
    "df.drop(columns=drop_date, inplace=True)"
   ]
  },
  {
   "cell_type": "code",
   "execution_count": null,
   "metadata": {},
   "outputs": [],
   "source": [
    "df['Nama HP']"
   ]
  },
  {
   "cell_type": "code",
   "execution_count": null,
   "metadata": {},
   "outputs": [],
   "source": [
    "df['Nama HP'] = df['Nama HP'].str.split().str[0]\n"
   ]
  },
  {
   "cell_type": "code",
   "execution_count": null,
   "metadata": {},
   "outputs": [],
   "source": [
    "df.dtypes"
   ]
  },
  {
   "cell_type": "code",
   "execution_count": null,
   "metadata": {},
   "outputs": [],
   "source": [
    "df['Banyak Rating'] = df['Banyak Rating'].str.replace(',', '').astype(int)"
   ]
  },
  {
   "cell_type": "code",
   "execution_count": null,
   "metadata": {},
   "outputs": [],
   "source": [
    "df['RAM'].value_counts()"
   ]
  },
  {
   "cell_type": "code",
   "execution_count": null,
   "metadata": {},
   "outputs": [],
   "source": [
    "\n",
    "df['RAM'] = df['RAM'].str.split().str[0]\n",
    "df['RAM'] = df['RAM'].str.replace('1.5','2')\n",
    "df['RAM'].fillna(0, inplace=True)\n",
    "df['RAM'] = df['RAM'].astype(int)\n",
    "\n"
   ]
  },
  {
   "cell_type": "code",
   "execution_count": null,
   "metadata": {},
   "outputs": [],
   "source": [
    "df"
   ]
  },
  {
   "cell_type": "code",
   "execution_count": null,
   "metadata": {},
   "outputs": [],
   "source": [
    "\n",
    "df['ROM'].value_counts()"
   ]
  },
  {
   "cell_type": "code",
   "execution_count": null,
   "metadata": {},
   "outputs": [],
   "source": [
    "df['ROM'] = df['ROM'].str.split().str[0]\n",
    "df['ROM'] = df['ROM'].str.replace('NA','0')\n",
    "df['ROM'].fillna(0, inplace=True)\n",
    "df['ROM'] = df['ROM'].astype(int)"
   ]
  },
  {
   "cell_type": "code",
   "execution_count": null,
   "metadata": {},
   "outputs": [],
   "source": [
    "df"
   ]
  },
  {
   "cell_type": "code",
   "execution_count": null,
   "metadata": {},
   "outputs": [],
   "source": [
    "df['Back Camera'].value_counts()"
   ]
  },
  {
   "cell_type": "code",
   "execution_count": null,
   "metadata": {},
   "outputs": [],
   "source": [
    "\n",
    "df['Size Cam Blkg'] = df['Back Camera'].str.split().str[0].str.replace('MP', '').str.replace('Mp', '')\n",
    "df['Size Cam Blkg'] = df['Size Cam Blkg'].str.replace('12.2','12').str.replace('12.3','12').str.replace('0.3','1').astype(int)\n",
    "\n",
    "def hitung_cam(string_cam):\n",
    "    if \"Dual\" in string_cam:\n",
    "        return 2\n",
    "    else:\n",
    "        hitung_plus = string_cam.count('+')\n",
    "        return hitung_plus + 1\n",
    "\n",
    "df['Total Cam Blkg'] = df['Back Camera'].apply(lambda x: hitung_cam(x))\n",
    "\n",
    "drpro = ['Back Camera']\n",
    "df.drop(columns=drpro, inplace=True)\n"
   ]
  },
  {
   "cell_type": "code",
   "execution_count": null,
   "metadata": {},
   "outputs": [],
   "source": [
    "df"
   ]
  },
  {
   "cell_type": "code",
   "execution_count": null,
   "metadata": {},
   "outputs": [],
   "source": [
    "df['Size Cam Dpn'] = df['Front Camera'].str.split().str[0].str.replace('MP', '').str.replace('Mp', '')\n",
    "df['Size Cam Dpn'] = df['Size Cam Dpn'].str.replace('10.8', '11').str.replace('0.3', '1').str.replace('1.6', '2').str.replace('1.3', '1')\n",
    "df['Size Cam Dpn'].fillna(0, inplace=True)\n",
    "\n",
    "df['Size Cam Dpn']=df['Size Cam Dpn'].astype(int)\n",
    "\n",
    "def hitung_camera(string_cam):\n",
    "    if \"Dual\" in string_cam:\n",
    "        return 2\n",
    "    else:\n",
    "        \n",
    "        return 1\n",
    "\n",
    "df['Total Cam Dpn'] = df['Front Camera'].apply(lambda x: hitung_camera(x))\n",
    "\n",
    "drpro = ['Front Camera']\n",
    "df.drop(columns=drpro, inplace=True)"
   ]
  },
  {
   "cell_type": "code",
   "execution_count": null,
   "metadata": {},
   "outputs": [],
   "source": [
    "df"
   ]
  },
  {
   "cell_type": "code",
   "execution_count": null,
   "metadata": {},
   "outputs": [],
   "source": [
    "df['Battery'].unique()"
   ]
  },
  {
   "cell_type": "code",
   "execution_count": null,
   "metadata": {},
   "outputs": [],
   "source": [
    "df['Battery']=df['Battery'].str.replace('mAh','').astype(float)\n",
    "\n",
    "def pilah_pro(pro):\n",
    "    if 5000 <= pro < 5500:\n",
    "        return '5000'\n",
    "    elif 5500 <= pro < 6000:\n",
    "        return '5500'\n",
    "    elif 4000 <= pro < 4500:\n",
    "        return '4000'\n",
    "    elif 4500 <= pro < 5000:\n",
    "        return '4500'\n",
    "    elif 2000 <= pro < 2500:\n",
    "        return '2000'\n",
    "    elif 2500 <= pro < 3000:\n",
    "        return '2500'\n",
    "    elif 1000 <= pro < 1500:\n",
    "        return '1000'\n",
    "    elif 1500 <= pro < 1900:\n",
    "        return '1500'\n",
    "\n",
    "df['Battery'] = df['Battery'].apply(pilah_pro)\n",
    "\n",
    "df['Battery'].fillna(0, inplace=True)\n",
    "df['Battery']=df['Battery'].astype(int)\n"
   ]
  },
  {
   "cell_type": "code",
   "execution_count": null,
   "metadata": {},
   "outputs": [],
   "source": [
    "df['Price in INR']=df['Price in INR'].str.replace('₹','').str.replace(',','').astype(float)"
   ]
  },
  {
   "cell_type": "code",
   "execution_count": null,
   "metadata": {},
   "outputs": [],
   "source": [
    "df['Processor'].unique()"
   ]
  },
  {
   "cell_type": "code",
   "execution_count": null,
   "metadata": {},
   "outputs": [],
   "source": [
    "df['Upd_Processor'] = df['Processor'].str.split().str[0]\n",
    "\n",
    "def pilah_pro(pro):\n",
    "    if pro == 'Qualcomm' or pro == 'Qualcomm®' or pro == 'Snapdragon' or pro == '2nd-gen':\n",
    "        return 'Snapdragon'\n",
    "    elif pro == 'Mediatek' or pro == 'MediaTek' or pro == 'Meditek' or pro == 'Helio':\n",
    "        return 'Mediatek'\n",
    "    elif pro == 'Octa-core(EXYNOS)' or pro == 'Exynos':\n",
    "        return 'Exynos'\n",
    "    elif pro == '1':\n",
    "        return 'IOS'\n",
    "    elif pro == 'HUAWEI' or pro =='Kirin' :\n",
    "        return 'Huawei'\n",
    "    elif pro == 'Google':\n",
    "        return 'Google'\n",
    "    else :\n",
    "        return 'Other'\n",
    "\n",
    "\n",
    "df['Upd_Processor'] = df['Upd_Processor'].apply(pilah_pro)\n",
    "\n",
    "drpro = ['Processor']\n",
    "df.drop(columns=drpro, inplace=True)\n",
    "\n",
    "df['Upd_Processor'].value_counts()\n",
    "\n",
    "\n"
   ]
  },
  {
   "cell_type": "code",
   "execution_count": null,
   "metadata": {},
   "outputs": [],
   "source": [
    "df['Nama HP'].value_counts().plot(kind='bar')"
   ]
  },
  {
   "cell_type": "code",
   "execution_count": null,
   "metadata": {},
   "outputs": [],
   "source": [
    "sns.distplot(df['Price in INR'])"
   ]
  },
  {
   "cell_type": "code",
   "execution_count": null,
   "metadata": {},
   "outputs": [],
   "source": [
    "df['RAM'].value_counts().plot(kind='bar')"
   ]
  },
  {
   "cell_type": "code",
   "execution_count": null,
   "metadata": {},
   "outputs": [],
   "source": [
    "df['ROM'].value_counts().plot(kind='bar')"
   ]
  },
  {
   "cell_type": "code",
   "execution_count": null,
   "metadata": {},
   "outputs": [],
   "source": [
    "df['Upd_Processor'].value_counts().plot(kind='bar')"
   ]
  },
  {
   "cell_type": "code",
   "execution_count": null,
   "metadata": {},
   "outputs": [],
   "source": [
    "sns.barplot(x=df['Nama HP'], y=df['Price in INR'])\n",
    "plt.xticks(rotation='vertical')\n",
    "plt.show()"
   ]
  },
  {
   "cell_type": "code",
   "execution_count": null,
   "metadata": {},
   "outputs": [],
   "source": [
    "sns.barplot(x=df['RAM'], y=df['Price in INR'])\n",
    "plt.xticks(rotation='vertical')\n",
    "plt.show()"
   ]
  },
  {
   "cell_type": "code",
   "execution_count": null,
   "metadata": {},
   "outputs": [],
   "source": [
    "df = df[df[\"RAM\"] <= 12]\n",
    "df['RAM'].value_counts()"
   ]
  },
  {
   "cell_type": "code",
   "execution_count": null,
   "metadata": {},
   "outputs": [],
   "source": [
    "plt.figure(figsize=(18, 15))\n",
    "sns.heatmap(df.corr(), annot=True, annot_kws={'size': 15})"
   ]
  },
  {
   "cell_type": "code",
   "execution_count": null,
   "metadata": {},
   "outputs": [],
   "source": [
    "drpro = ['Banyak Rating']\n",
    "df.drop(columns=drpro, inplace=True)"
   ]
  },
  {
   "cell_type": "code",
   "execution_count": null,
   "metadata": {},
   "outputs": [],
   "source": [
    "sns.distplot(np.log(df['Price in INR']))"
   ]
  },
  {
   "cell_type": "code",
   "execution_count": null,
   "metadata": {},
   "outputs": [],
   "source": [
    "swap = 'Price in INR'\n",
    "\n",
    "kolom = df.pop(swap)\n",
    "df['Price in INR'] = kolom"
   ]
  },
  {
   "cell_type": "code",
   "execution_count": null,
   "metadata": {},
   "outputs": [],
   "source": [
    "df['IDR'] = (df['Price in INR'] * 183).round(2)\n",
    "drprice = ['Price in INR']\n",
    "df.drop(columns=drprice, inplace=True)\n"
   ]
  },
  {
   "cell_type": "code",
   "execution_count": null,
   "metadata": {},
   "outputs": [],
   "source": [
    "df.info()"
   ]
  },
  {
   "cell_type": "code",
   "execution_count": null,
   "metadata": {},
   "outputs": [],
   "source": [
    "df"
   ]
  },
  {
   "cell_type": "markdown",
   "metadata": {},
   "source": [
    "# Modelling "
   ]
  },
  {
   "cell_type": "code",
   "execution_count": null,
   "metadata": {},
   "outputs": [],
   "source": [
    "df"
   ]
  },
  {
   "cell_type": "code",
   "execution_count": null,
   "metadata": {},
   "outputs": [],
   "source": [
    "X = df.drop(columns=['IDR'])\n",
    "y = np.log(df['IDR'])"
   ]
  },
  {
   "cell_type": "code",
   "execution_count": null,
   "metadata": {},
   "outputs": [],
   "source": [
    "from sklearn.model_selection import train_test_split\n",
    "\n",
    "X_train, X_test, y_train, y_test = train_test_split(X, y, test_size=0.2, random_state=1)"
   ]
  },
  {
   "cell_type": "code",
   "execution_count": null,
   "metadata": {},
   "outputs": [],
   "source": [
    "X_train"
   ]
  },
  {
   "cell_type": "code",
   "execution_count": null,
   "metadata": {},
   "outputs": [],
   "source": [
    "df.info()"
   ]
  },
  {
   "cell_type": "markdown",
   "metadata": {},
   "source": [
    "# ONE HOT ENCODER"
   ]
  },
  {
   "cell_type": "code",
   "execution_count": null,
   "metadata": {},
   "outputs": [],
   "source": [
    "from sklearn.compose import ColumnTransformer\n",
    "from sklearn.pipeline import Pipeline\n",
    "from sklearn.preprocessing import OneHotEncoder, StandardScaler\n",
    "\n",
    "cat = df.select_dtypes(include = object).columns\n",
    "cat = cat.tolist()\n",
    "\n",
    "Encode = ColumnTransformer(transformers=[\n",
    "    ('Cat', OneHotEncoder(sparse=False, drop='first',handle_unknown='ignore', categories='auto'),[0,9] )],remainder='passthrough')\n"
   ]
  },
  {
   "cell_type": "code",
   "execution_count": null,
   "metadata": {},
   "outputs": [],
   "source": [
    "df_cleaned = df.dropna()"
   ]
  },
  {
   "cell_type": "markdown",
   "metadata": {},
   "source": [
    "# Model : XGBRegressor"
   ]
  },
  {
   "cell_type": "code",
   "execution_count": null,
   "metadata": {},
   "outputs": [],
   "source": [
    "\n",
    "from xgboost import XGBRegressor\n",
    "\n",
    "model = XGBRegressor(learning_rate=0.5, n_estimators=100, max_depth=4)\n",
    "\n",
    "XGBR = Pipeline ([\n",
    "    ('Encode', Encode),\n",
    "    ('Model', model)\n",
    "])\n",
    "\n",
    "XGBR.fit(X_train,y_train)\n",
    "y_pred = XGBR.predict(X_test)\n",
    "y_pred\n",
    "\n",
    "from sklearn.metrics import mean_absolute_error as MAE\n",
    "from sklearn.metrics import r2_score\n",
    "\n",
    "print('MAE:', MAE(y_test, y_pred))\n",
    "print('R2:', r2_score(y_test, y_pred))\n",
    "\n",
    "sns.scatterplot(x=y_test, y=y_pred)\n",
    "plt.plot([y_test.min(), y_test.max()], [y_test.min(), y_test.max()], 'k-', lw=4)\n",
    "plt.show()"
   ]
  },
  {
   "cell_type": "markdown",
   "metadata": {},
   "source": [
    "# RandomForestRegressor"
   ]
  },
  {
   "cell_type": "code",
   "execution_count": null,
   "metadata": {},
   "outputs": [],
   "source": [
    "from sklearn.ensemble import RandomForestRegressor\n",
    "\n",
    "model = RandomForestRegressor(n_estimators=200, max_depth=600, max_features=10, random_state=2)\n",
    "\n",
    "RF = Pipeline ([\n",
    "    ('Encode', Encode),\n",
    "    ('Model', model)\n",
    "])\n",
    "\n",
    "RF.fit(X_train,y_train)\n",
    "y_pred = RF.predict(X_test)\n",
    "y_pred\n",
    "\n",
    "from sklearn.metrics import mean_absolute_error as MAE\n",
    "from sklearn.metrics import r2_score\n",
    "\n",
    "print('MAE:', MAE(y_test, y_pred))\n",
    "print('R2:', r2_score(y_test, y_pred))\n",
    "\n",
    "sns.scatterplot(x=y_test, y=y_pred)\n",
    "plt.plot([y_test.min(), y_test.max()], [y_test.min(), y_test.max()], 'k-', lw=4)\n",
    "plt.show()"
   ]
  },
  {
   "cell_type": "markdown",
   "metadata": {},
   "source": [
    "# GradientBoostRegressor"
   ]
  },
  {
   "cell_type": "code",
   "execution_count": null,
   "metadata": {},
   "outputs": [],
   "source": [
    "from sklearn.ensemble import GradientBoostingRegressor\n",
    "\n",
    "model = GradientBoostingRegressor(loss='squared_error', learning_rate=0.2, n_estimators=200, max_depth=4, random_state=2)\n",
    "\n",
    "GBR = Pipeline ([\n",
    "    ('Encode', Encode),\n",
    "    ('Model', model)\n",
    "])\n",
    "\n",
    "GBR.fit(X_train,y_train)\n",
    "y_pred = GBR.predict(X_test)\n",
    "y_pred\n",
    "\n",
    "from sklearn.metrics import mean_absolute_error as MAE\n",
    "from sklearn.metrics import r2_score\n",
    "\n",
    "print('MAE:', MAE(y_test, y_pred))\n",
    "print('R2:', r2_score(y_test, y_pred))\n",
    "\n",
    "sns.scatterplot(x=y_test, y=y_pred)\n",
    "plt.plot([y_test.min(), y_test.max()], [y_test.min(), y_test.max()], 'k-', lw=4)\n",
    "plt.show()"
   ]
  },
  {
   "cell_type": "markdown",
   "metadata": {},
   "source": [
    "# LinearRegression"
   ]
  },
  {
   "cell_type": "code",
   "execution_count": null,
   "metadata": {},
   "outputs": [],
   "source": [
    "\n",
    "from sklearn.linear_model import LinearRegression\n",
    "\n",
    "model = LinearRegression()\n",
    "\n",
    "LR_pipe = Pipeline ([\n",
    "    ('Encode', Encode),\n",
    "    ('Model', model)\n",
    "])\n",
    "\n",
    "LR_pipe.fit(X_train,y_train)\n",
    "y_pred = LR_pipe.predict(X_test)\n",
    "y_pred\n",
    "\n",
    "from sklearn.metrics import mean_absolute_error as MAE\n",
    "from sklearn.metrics import r2_score\n",
    "\n",
    "print('MAE:', MAE(y_test, y_pred))\n",
    "print('R2:', r2_score(y_test, y_pred))\n",
    "\n",
    "sns.scatterplot(x=y_test, y=y_pred)\n",
    "plt.plot([y_test.min(), y_test.max()], [y_test.min(), y_test.max()], 'k-', lw=4)\n",
    "plt.show()"
   ]
  },
  {
   "cell_type": "code",
   "execution_count": null,
   "metadata": {},
   "outputs": [],
   "source": [
    "import pickle\n",
    "\n",
    "pickle.dump(df, open('df.pkl', 'wb'))\n",
    "pickle.dump(XGBR, open('model.pkl', 'wb'))"
   ]
  },
  {
   "cell_type": "code",
   "execution_count": null,
   "metadata": {},
   "outputs": [],
   "source": [
    "df.info()"
   ]
  },
  {
   "cell_type": "code",
   "execution_count": null,
   "metadata": {},
   "outputs": [],
   "source": []
  },
  {
   "cell_type": "code",
   "execution_count": null,
   "metadata": {},
   "outputs": [],
   "source": []
  }
 ],
 "metadata": {
  "kernelspec": {
   "display_name": ".venv",
   "language": "python",
   "name": "python3"
  },
  "language_info": {
   "codemirror_mode": {
    "name": "ipython",
    "version": 3
   },
   "file_extension": ".py",
   "mimetype": "text/x-python",
   "name": "python",
   "nbconvert_exporter": "python",
   "pygments_lexer": "ipython3",
   "version": "3.10.11"
  },
  "orig_nbformat": 4
 },
 "nbformat": 4,
 "nbformat_minor": 2
}
